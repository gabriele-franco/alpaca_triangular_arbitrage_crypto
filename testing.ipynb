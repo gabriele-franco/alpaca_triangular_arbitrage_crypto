{
 "cells": [
  {
   "cell_type": "code",
   "execution_count": 31,
   "metadata": {},
   "outputs": [
    {
     "ename": "RuntimeError",
     "evalue": "This event loop is already running",
     "output_type": "error",
     "traceback": [
      "\u001b[0;31m---------------------------------------------------------------------------\u001b[0m",
      "\u001b[0;31mRuntimeError\u001b[0m                              Traceback (most recent call last)",
      "\u001b[0;32m<ipython-input-31-92da70a2b1c5>\u001b[0m in \u001b[0;36m<module>\u001b[0;34m\u001b[0m\n\u001b[0;32m----> 1\u001b[0;31m \u001b[0;32mfrom\u001b[0m \u001b[0mfunctions\u001b[0m \u001b[0;32mimport\u001b[0m \u001b[0mAPI_KEY\u001b[0m\u001b[0;34m,\u001b[0m \u001b[0mAPI_SECRET_KEY\u001b[0m\u001b[0;34m,\u001b[0m \u001b[0mbase_url\u001b[0m\u001b[0;34m\u001b[0m\u001b[0;34m\u001b[0m\u001b[0m\n\u001b[0m\u001b[1;32m      2\u001b[0m \u001b[0;32mimport\u001b[0m \u001b[0mrequests\u001b[0m\u001b[0;34m\u001b[0m\u001b[0;34m\u001b[0m\u001b[0m\n\u001b[1;32m      3\u001b[0m \u001b[0;31m#import alpaca_trade_api as tradeapi\u001b[0m\u001b[0;34m\u001b[0m\u001b[0;34m\u001b[0m\u001b[0m\n",
      "\u001b[0;32m~/Documents/Alpaca_project/functions.py\u001b[0m in \u001b[0;36m<module>\u001b[0;34m\u001b[0m\n\u001b[1;32m    163\u001b[0m \u001b[0;34m\u001b[0m\u001b[0m\n\u001b[1;32m    164\u001b[0m \u001b[0mloop\u001b[0m \u001b[0;34m=\u001b[0m \u001b[0masyncio\u001b[0m\u001b[0;34m.\u001b[0m\u001b[0mget_event_loop\u001b[0m\u001b[0;34m(\u001b[0m\u001b[0;34m)\u001b[0m\u001b[0;34m\u001b[0m\u001b[0;34m\u001b[0m\u001b[0m\n\u001b[0;32m--> 165\u001b[0;31m \u001b[0mloop\u001b[0m\u001b[0;34m.\u001b[0m\u001b[0mrun_until_complete\u001b[0m\u001b[0;34m(\u001b[0m\u001b[0mmain\u001b[0m\u001b[0;34m(\u001b[0m\u001b[0;34m)\u001b[0m\u001b[0;34m)\u001b[0m\u001b[0;34m\u001b[0m\u001b[0;34m\u001b[0m\u001b[0m\n\u001b[0m\u001b[1;32m    166\u001b[0m \u001b[0mloop\u001b[0m\u001b[0;34m.\u001b[0m\u001b[0mclose\u001b[0m\u001b[0;34m(\u001b[0m\u001b[0;34m)\u001b[0m\u001b[0;34m\u001b[0m\u001b[0;34m\u001b[0m\u001b[0m\n",
      "\u001b[0;32m/usr/local/Cellar/python@3.9/3.9.13_2/Frameworks/Python.framework/Versions/3.9/lib/python3.9/asyncio/base_events.py\u001b[0m in \u001b[0;36mrun_until_complete\u001b[0;34m(self, future)\u001b[0m\n\u001b[1;32m    621\u001b[0m         \"\"\"\n\u001b[1;32m    622\u001b[0m         \u001b[0mself\u001b[0m\u001b[0;34m.\u001b[0m\u001b[0m_check_closed\u001b[0m\u001b[0;34m(\u001b[0m\u001b[0;34m)\u001b[0m\u001b[0;34m\u001b[0m\u001b[0;34m\u001b[0m\u001b[0m\n\u001b[0;32m--> 623\u001b[0;31m         \u001b[0mself\u001b[0m\u001b[0;34m.\u001b[0m\u001b[0m_check_running\u001b[0m\u001b[0;34m(\u001b[0m\u001b[0;34m)\u001b[0m\u001b[0;34m\u001b[0m\u001b[0;34m\u001b[0m\u001b[0m\n\u001b[0m\u001b[1;32m    624\u001b[0m \u001b[0;34m\u001b[0m\u001b[0m\n\u001b[1;32m    625\u001b[0m         \u001b[0mnew_task\u001b[0m \u001b[0;34m=\u001b[0m \u001b[0;32mnot\u001b[0m \u001b[0mfutures\u001b[0m\u001b[0;34m.\u001b[0m\u001b[0misfuture\u001b[0m\u001b[0;34m(\u001b[0m\u001b[0mfuture\u001b[0m\u001b[0;34m)\u001b[0m\u001b[0;34m\u001b[0m\u001b[0;34m\u001b[0m\u001b[0m\n",
      "\u001b[0;32m/usr/local/Cellar/python@3.9/3.9.13_2/Frameworks/Python.framework/Versions/3.9/lib/python3.9/asyncio/base_events.py\u001b[0m in \u001b[0;36m_check_running\u001b[0;34m(self)\u001b[0m\n\u001b[1;32m    581\u001b[0m     \u001b[0;32mdef\u001b[0m \u001b[0m_check_running\u001b[0m\u001b[0;34m(\u001b[0m\u001b[0mself\u001b[0m\u001b[0;34m)\u001b[0m\u001b[0;34m:\u001b[0m\u001b[0;34m\u001b[0m\u001b[0;34m\u001b[0m\u001b[0m\n\u001b[1;32m    582\u001b[0m         \u001b[0;32mif\u001b[0m \u001b[0mself\u001b[0m\u001b[0;34m.\u001b[0m\u001b[0mis_running\u001b[0m\u001b[0;34m(\u001b[0m\u001b[0;34m)\u001b[0m\u001b[0;34m:\u001b[0m\u001b[0;34m\u001b[0m\u001b[0;34m\u001b[0m\u001b[0m\n\u001b[0;32m--> 583\u001b[0;31m             \u001b[0;32mraise\u001b[0m \u001b[0mRuntimeError\u001b[0m\u001b[0;34m(\u001b[0m\u001b[0;34m'This event loop is already running'\u001b[0m\u001b[0;34m)\u001b[0m\u001b[0;34m\u001b[0m\u001b[0;34m\u001b[0m\u001b[0m\n\u001b[0m\u001b[1;32m    584\u001b[0m         \u001b[0;32mif\u001b[0m \u001b[0mevents\u001b[0m\u001b[0;34m.\u001b[0m\u001b[0m_get_running_loop\u001b[0m\u001b[0;34m(\u001b[0m\u001b[0;34m)\u001b[0m \u001b[0;32mis\u001b[0m \u001b[0;32mnot\u001b[0m \u001b[0;32mNone\u001b[0m\u001b[0;34m:\u001b[0m\u001b[0;34m\u001b[0m\u001b[0;34m\u001b[0m\u001b[0m\n\u001b[1;32m    585\u001b[0m             raise RuntimeError(\n",
      "\u001b[0;31mRuntimeError\u001b[0m: This event loop is already running"
     ]
    }
   ],
   "source": [
    "#from functions import API_KEY, API_SECRET_KEY, base_url\n",
    "import requests\n",
    "#import alpaca_trade_api as tradeapi\n"
   ]
  },
  {
   "cell_type": "code",
   "execution_count": 32,
   "metadata": {},
   "outputs": [],
   "source": [
    "API_KEY=\"PK0AXH5V56VZ5U2I5W7Z\"\n",
    "API_SECRET_KEY=\"dcSfJwdRDsr6TD6ZkMEMYyunBvpMIXJI1qOqSAG8\"\n",
    "\n",
    "HEADERS = {'APCA-API-KEY-ID': API_KEY,\n",
    "           'APCA-API-SECRET-KEY': API_SECRET_KEY}\n",
    "DATA_URL = 'https://data.alpaca.markets'\n",
    "\n",
    "base_url= \"https://paper-api.alpaca.markets\"\n",
    "ALPACA_BASE_URL=base_url\n",
    "#rest_api= REST(API_KEY, API_SECRET_KEY, base_url)"
   ]
  },
  {
   "cell_type": "code",
   "execution_count": 21,
   "metadata": {},
   "outputs": [
    {
     "name": "stdout",
     "output_type": "stream",
     "text": [
      "<Response [403]>\n"
     ]
    }
   ],
   "source": [
    "symbol=\"ETH/USD\"\n",
    "qty=0.06\n",
    "side='buy'\n",
    "\n",
    "\n",
    "\n",
    "\n",
    "order=requests.post(\n",
    "            '{0}/v2/orders'.format(ALPACA_BASE_URL), headers=HEADERS, json={\n",
    "                'symbol': symbol,\n",
    "                'qty': qty,\n",
    "                'side': side,\n",
    "                'type': 'market',\n",
    "                'time_in_force': 'gtc',\n",
    "            })\n",
    "\n",
    "print(order)"
   ]
  },
  {
   "cell_type": "code",
   "execution_count": 33,
   "metadata": {},
   "outputs": [],
   "source": [
    "def post_Alpaca_order(symbol, qty, side):\n",
    "    '''\n",
    "    Post an order to Alpaca\n",
    "    '''\n",
    "    try:\n",
    "        order = requests.post(\n",
    "            '{0}/v2/orders'.format(ALPACA_BASE_URL), headers=HEADERS, json={\n",
    "                'symbol': symbol,\n",
    "                'qty': qty,\n",
    "                'side': side,\n",
    "                'type': 'market',\n",
    "                'time_in_force': 'gtc',\n",
    "            })\n",
    "        print(f'post_order', order)\n",
    "        return order\n",
    "    except Exception as e:\n",
    "        print(\"There was an issue posting order to Alpaca: {0}\".format(e))\n",
    "        return False"
   ]
  },
  {
   "cell_type": "code",
   "execution_count": 34,
   "metadata": {},
   "outputs": [
    {
     "name": "stdout",
     "output_type": "stream",
     "text": [
      "post_order <Response [200]>\n"
     ]
    },
    {
     "data": {
      "text/plain": [
       "b'{\"id\":\"6c269f61-0563-4a3c-9cf0-9464e923603f\",\"client_order_id\":\"204277ff-37fe-4988-a478-1a5e39866568\",\"created_at\":\"2022-11-27T11:54:10.699998805Z\",\"updated_at\":\"2022-11-27T11:54:10.700079025Z\",\"submitted_at\":\"2022-11-27T11:54:10.698418265Z\",\"filled_at\":null,\"expired_at\":null,\"canceled_at\":null,\"failed_at\":null,\"replaced_at\":null,\"replaced_by\":null,\"replaces\":null,\"asset_id\":\"47d0ce51-247b-483b-908a-b62dfbcb957e\",\"symbol\":\"ETH/BTC\",\"asset_class\":\"crypto\",\"notional\":null,\"qty\":\"0.03\",\"filled_qty\":\"0\",\"filled_avg_price\":null,\"order_class\":\"\",\"order_type\":\"market\",\"type\":\"market\",\"side\":\"sell\",\"time_in_force\":\"gtc\",\"limit_price\":null,\"stop_price\":null,\"status\":\"pending_new\",\"extended_hours\":false,\"legs\":null,\"trail_percent\":null,\"trail_price\":null,\"hwm\":null,\"subtag\":null,\"source\":null}'"
      ]
     },
     "execution_count": 34,
     "metadata": {},
     "output_type": "execute_result"
    }
   ],
   "source": [
    "order=post_Alpaca_order(symbol=\"ETH/BTC\", qty=0.03, side='sell')\n",
    "order.content"
   ]
  },
  {
   "cell_type": "code",
   "execution_count": 17,
   "metadata": {},
   "outputs": [],
   "source": [
    "import json\n",
    "import requests\n",
    "\n",
    "def get_coin_tickers(url):\n",
    "    req = requests.get('https://api.alpaca.markets/v2/assets?asset_class=crypto', headers=HEADERS)\n",
    "    print(req)\n",
    "    json_resp = json.loads(req.text)\n",
    "    #print(json_resp)\n",
    "    return json_resp"
   ]
  },
  {
   "cell_type": "code",
   "execution_count": 27,
   "metadata": {},
   "outputs": [
    {
     "data": {
      "text/plain": [
       "b'{\"message\": \"forbidden.\"}\\n'"
      ]
     },
     "execution_count": 27,
     "metadata": {},
     "output_type": "execute_result"
    }
   ],
   "source": [
    "req = requests.get('https://api.alpaca.markets/v2/assets?asset_class=crypto', headers=HEADERS)\n",
    "req._content"
   ]
  },
  {
   "cell_type": "code",
   "execution_count": 65,
   "metadata": {},
   "outputs": [
    {
     "data": {
      "text/plain": [
       "'97686.69657816579'"
      ]
     },
     "execution_count": 65,
     "metadata": {},
     "output_type": "execute_result"
    }
   ],
   "source": [
    "import alpaca_trade_api as tradeapi\n",
    "import pandas as pd\n",
    "api = tradeapi.REST(API_KEY, API_SECRET_KEY, base_url, api_version='v2')\n",
    "\n",
    "# obtain account information\n",
    "account = api.get_account()\n",
    "#account=pd.DataFrame(account)\n",
    "account.cash"
   ]
  },
  {
   "cell_type": "code",
   "execution_count": 34,
   "metadata": {},
   "outputs": [
    {
     "name": "stdout",
     "output_type": "stream",
     "text": [
      "spread 0.00012165799932613297\n",
      "0.8214631902344457 0.06048269177058177 1001.6550680664401\n"
     ]
    }
   ],
   "source": [
    "prices={'ETH/USD': 1217.34, 'BTC/USD': 16561.02, 'ETH/BTC': 0.073628}\n",
    "ETH = prices['ETH/USD']\n",
    "BTC = prices['BTC/USD']\n",
    "ETHBTC = prices['ETH/BTC']\n",
    "DIV = ETH / BTC\n",
    "spread = abs(DIV - ETHBTC)\n",
    "print(f'spread', spread)\n",
    "BUY_ETH = 1000 / ETH\n",
    "BUY_BTC = 1000 / BTC\n",
    "\n",
    "ETHBTCs= BUY_ETH*ETHBTC\n",
    "BTCUSD = ETHBTCs*BTC\n",
    "print(BUY_ETH, ETHBTCs,BTCUSD)"
   ]
  },
  {
   "cell_type": "code",
   "execution_count": 47,
   "metadata": {},
   "outputs": [
    {
     "name": "stdout",
     "output_type": "stream",
     "text": [
      "0.08201058592157573 0.8963030952\n"
     ]
    }
   ],
   "source": [
    "ETH = prices['ETH/USD']\n",
    "BTC = prices['BTC/USD']\n",
    "ETHBTC = prices['ETH/BTC']\n",
    "DIV = ETH / BTC\n",
    "spread = abs(DIV - ETHBTC)\n",
    "BUY_ETH = 100 / ETH\n",
    "BUY_BTC = 100 / BTC\n",
    "#from BTC to ETH\n",
    "BUY_ETHBTC = BUY_BTC / ETHBTC\n",
    "\n",
    "SELL_ETHBTC = ETHBTC / BUY_ETH\n",
    "print(BUY_ETHBTC,SELL_ETHBTC )"
   ]
  },
  {
   "cell_type": "code",
   "execution_count": 24,
   "metadata": {},
   "outputs": [
    {
     "name": "stdout",
     "output_type": "stream",
     "text": [
      "1000 0.8214631902344457 0.06048269177058177 1001.6550680664402\n"
     ]
    }
   ],
   "source": [
    "ETHw= budget/prices['ETH/USD']\n",
    "BTCw= ETHw*prices['ETH/BTC']\n",
    "USD= BTCw /prices['BTC/USD']**(-1)\n",
    "print(budget,ETHw,BTCw, USD)\n"
   ]
  },
  {
   "cell_type": "code",
   "execution_count": null,
   "metadata": {},
   "outputs": [],
   "source": []
  }
 ],
 "metadata": {
  "interpreter": {
   "hash": "f7c91e8a7a4844f29de1e36654c10eb3c5f4de6f2ec231edde7965085c909d24"
  },
  "kernelspec": {
   "display_name": "Python 3.8.0 ('triangular_arbitrage')",
   "language": "python",
   "name": "python3"
  },
  "language_info": {
   "codemirror_mode": {
    "name": "ipython",
    "version": 3
   },
   "file_extension": ".py",
   "mimetype": "text/x-python",
   "name": "python",
   "nbconvert_exporter": "python",
   "pygments_lexer": "ipython3",
   "version": "3.9.13"
  },
  "orig_nbformat": 4
 },
 "nbformat": 4,
 "nbformat_minor": 2
}
